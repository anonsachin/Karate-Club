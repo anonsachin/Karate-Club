{
 "cells": [
  {
   "cell_type": "code",
   "execution_count": 33,
   "metadata": {},
   "outputs": [],
   "source": [
    "import torch\n",
    "from torch_geometric.data import Data\n",
    "from torch_geometric.datasets import KarateClub"
   ]
  },
  {
   "cell_type": "code",
   "execution_count": 34,
   "metadata": {},
   "outputs": [],
   "source": [
    "k = KarateClub()"
   ]
  },
  {
   "cell_type": "code",
   "execution_count": 35,
   "metadata": {},
   "outputs": [
    {
     "data": {
      "text/plain": [
       "1"
      ]
     },
     "execution_count": 35,
     "metadata": {},
     "output_type": "execute_result"
    }
   ],
   "source": [
    "len(k)"
   ]
  },
  {
   "cell_type": "code",
   "execution_count": 36,
   "metadata": {},
   "outputs": [
    {
     "data": {
      "text/plain": [
       "2"
      ]
     },
     "execution_count": 36,
     "metadata": {},
     "output_type": "execute_result"
    }
   ],
   "source": [
    "k.num_classes"
   ]
  },
  {
   "cell_type": "code",
   "execution_count": 37,
   "metadata": {},
   "outputs": [
    {
     "data": {
      "text/plain": [
       "34"
      ]
     },
     "execution_count": 37,
     "metadata": {},
     "output_type": "execute_result"
    }
   ],
   "source": [
    "k.num_node_features"
   ]
  },
  {
   "cell_type": "code",
   "execution_count": 38,
   "metadata": {},
   "outputs": [
    {
     "name": "stdout",
     "output_type": "stream",
     "text": [
      "edge_index this is the keytensor([[ 0,  0,  0,  0,  0,  0,  0,  0,  0,  0,  0,  0,  0,  0,  0,  0,  1,  1,\n",
      "          1,  1,  1,  1,  1,  1,  1,  2,  2,  2,  2,  2,  2,  2,  2,  2,  2,  3,\n",
      "          3,  3,  3,  3,  3,  4,  4,  4,  5,  5,  5,  5,  6,  6,  6,  6,  7,  7,\n",
      "          7,  7,  8,  8,  8,  8,  8,  9,  9, 10, 10, 10, 11, 12, 12, 13, 13, 13,\n",
      "         13, 13, 14, 14, 15, 15, 16, 16, 17, 17, 18, 18, 19, 19, 19, 20, 20, 21,\n",
      "         21, 22, 22, 23, 23, 23, 23, 23, 24, 24, 24, 25, 25, 25, 26, 26, 27, 27,\n",
      "         27, 27, 28, 28, 28, 29, 29, 29, 29, 30, 30, 30, 30, 31, 31, 31, 31, 31,\n",
      "         31, 32, 32, 32, 32, 32, 32, 32, 32, 32, 32, 32, 32, 33, 33, 33, 33, 33,\n",
      "         33, 33, 33, 33, 33, 33, 33, 33, 33, 33, 33, 33],\n",
      "        [ 1,  2,  3,  4,  5,  6,  7,  8, 10, 11, 12, 13, 17, 19, 21, 31,  0,  2,\n",
      "          3,  7, 13, 17, 19, 21, 30,  0,  1,  3,  7,  8,  9, 13, 27, 28, 32,  0,\n",
      "          1,  2,  7, 12, 13,  0,  6, 10,  0,  6, 10, 16,  0,  4,  5, 16,  0,  1,\n",
      "          2,  3,  0,  2, 30, 32, 33,  2, 33,  0,  4,  5,  0,  0,  3,  0,  1,  2,\n",
      "          3, 33, 32, 33, 32, 33,  5,  6,  0,  1, 32, 33,  0,  1, 33, 32, 33,  0,\n",
      "          1, 32, 33, 25, 27, 29, 32, 33, 25, 27, 31, 23, 24, 31, 29, 33,  2, 23,\n",
      "         24, 33,  2, 31, 33, 23, 26, 32, 33,  1,  8, 32, 33,  0, 24, 25, 28, 32,\n",
      "         33,  2,  8, 14, 15, 18, 20, 22, 23, 29, 30, 31, 33,  8,  9, 13, 14, 15,\n",
      "         18, 19, 20, 22, 23, 26, 27, 28, 29, 30, 31, 32]])\n",
      "x this is the keytensor([[1., 0., 0.,  ..., 0., 0., 0.],\n",
      "        [0., 1., 0.,  ..., 0., 0., 0.],\n",
      "        [0., 0., 1.,  ..., 0., 0., 0.],\n",
      "        ...,\n",
      "        [0., 0., 0.,  ..., 1., 0., 0.],\n",
      "        [0., 0., 0.,  ..., 0., 1., 0.],\n",
      "        [0., 0., 0.,  ..., 0., 0., 1.]])\n",
      "y this is the keytensor([0, 0, 0, 0, 0, 0, 0, 0, 0, 1, 0, 0, 0, 0, 1, 1, 0, 0, 1, 0, 1, 0, 1, 1,\n",
      "        1, 1, 1, 1, 1, 1, 1, 1, 1, 1])\n"
     ]
    }
   ],
   "source": [
    "for j,i in k[0]:\n",
    "    print('{} this is the key{}'.format(j,i))"
   ]
  },
  {
   "cell_type": "code",
   "execution_count": 39,
   "metadata": {},
   "outputs": [],
   "source": [
    "import torch_geometric"
   ]
  },
  {
   "cell_type": "code",
   "execution_count": 40,
   "metadata": {},
   "outputs": [
    {
     "data": {
      "text/plain": [
       "Data(edge_index=[2, 156], x=[34, 34], y=[34])"
      ]
     },
     "execution_count": 40,
     "metadata": {},
     "output_type": "execute_result"
    }
   ],
   "source": [
    "k[0]"
   ]
  },
  {
   "cell_type": "code",
   "execution_count": 41,
   "metadata": {},
   "outputs": [
    {
     "data": {
      "text/plain": [
       "34"
      ]
     },
     "execution_count": 41,
     "metadata": {},
     "output_type": "execute_result"
    }
   ],
   "source": [
    "k[0].num_nodes"
   ]
  },
  {
   "cell_type": "code",
   "execution_count": 42,
   "metadata": {},
   "outputs": [],
   "source": [
    "kar = k[0]"
   ]
  },
  {
   "cell_type": "code",
   "execution_count": 43,
   "metadata": {},
   "outputs": [],
   "source": [
    "import torch.nn.functional as F\n",
    "from torch_geometric.nn import GCNConv"
   ]
  },
  {
   "cell_type": "code",
   "execution_count": 44,
   "metadata": {},
   "outputs": [],
   "source": [
    "class Graph(torch.nn.Module):\n",
    "    def __init__(self):\n",
    "        super(Graph,self).__init__()\n",
    "        self.conv1 = GCNConv(k.num_node_features,16)\n",
    "        self.conv2 = GCNConv(16,k.num_classes)\n",
    "        \n",
    "    def forward(self,data):\n",
    "        x, edge_index = data.x, data.edge_index\n",
    "        \n",
    "        x = self.conv1(x,edge_index)\n",
    "        x = F.relu(x)\n",
    "        x = F.dropout(x, training=self.training)\n",
    "        x = self.conv2(x,edge_index)\n",
    "        \n",
    "        return F.log_softmax(x, dim=1)"
   ]
  },
  {
   "cell_type": "code",
   "execution_count": 45,
   "metadata": {},
   "outputs": [
    {
     "name": "stdout",
     "output_type": "stream",
     "text": [
      "0.6940446496009827 its the loss\n",
      "0.6880894899368286 its the loss\n",
      "0.6802305579185486 its the loss\n",
      "0.6558499932289124 its the loss\n",
      "0.646148145198822 its the loss\n",
      "0.6368326544761658 its the loss\n",
      "0.6252492070198059 its the loss\n",
      "0.6071727871894836 its the loss\n",
      "0.5944912433624268 its the loss\n",
      "0.5779330134391785 its the loss\n",
      "0.5740532279014587 its the loss\n",
      "0.5768234729766846 its the loss\n",
      "0.5490034818649292 its the loss\n",
      "0.5253313779830933 its the loss\n",
      "0.49763381481170654 its the loss\n",
      "0.46051380038261414 its the loss\n",
      "0.4018058776855469 its the loss\n",
      "0.41307657957077026 its the loss\n",
      "0.42600393295288086 its the loss\n",
      "0.39087095856666565 its the loss\n",
      "0.3971790373325348 its the loss\n",
      "0.3066137433052063 its the loss\n",
      "0.2869694232940674 its the loss\n",
      "0.32580506801605225 its the loss\n",
      "0.27770310640335083 its the loss\n",
      "0.2645488381385803 its the loss\n",
      "0.27412149310112 its the loss\n",
      "0.2334519922733307 its the loss\n",
      "0.22693666815757751 its the loss\n",
      "0.2087678611278534 its the loss\n",
      "0.17209875583648682 its the loss\n",
      "0.16507476568222046 its the loss\n",
      "0.1816159039735794 its the loss\n",
      "0.14226257801055908 its the loss\n",
      "0.1910075694322586 its the loss\n",
      "0.15613576769828796 its the loss\n",
      "0.14356964826583862 its the loss\n",
      "0.13990242779254913 its the loss\n",
      "0.11524593830108643 its the loss\n",
      "0.10834211111068726 its the loss\n",
      "0.11284740269184113 its the loss\n",
      "0.12249381095170975 its the loss\n",
      "0.12313232570886612 its the loss\n",
      "0.12076912075281143 its the loss\n",
      "0.10090703517198563 its the loss\n",
      "0.08705676347017288 its the loss\n",
      "0.07448489218950272 its the loss\n",
      "0.12294048070907593 its the loss\n",
      "0.09165079146623611 its the loss\n",
      "0.08994096517562866 its the loss\n"
     ]
    }
   ],
   "source": [
    "model = Graph()\n",
    "optimizer = torch.optim.Adam(model.parameters(), lr=0.01, weight_decay=5e-4)\n",
    "\n",
    "epoch = 50\n",
    "model.train()\n",
    "\n",
    "for i in range(epoch):\n",
    "    optimizer.zero_grad()\n",
    "    out = model(kar)\n",
    "    loss  = F.nll_loss(out,kar.y)\n",
    "    print('{} its the loss'.format(loss))\n",
    "    loss.backward()\n",
    "    optimizer.step()"
   ]
  },
  {
   "cell_type": "code",
   "execution_count": 46,
   "metadata": {},
   "outputs": [
    {
     "name": "stdout",
     "output_type": "stream",
     "text": [
      "Accuracy = 0.9705882352941176\n"
     ]
    }
   ],
   "source": [
    "model.eval()\n",
    "_, pred = model(kar).max(dim=1)\n",
    "correct = float(pred.eq(kar.y).sum().item())\n",
    "print('Accuracy = {}'.format(correct/34))"
   ]
  },
  {
   "cell_type": "code",
   "execution_count": null,
   "metadata": {},
   "outputs": [],
   "source": []
  }
 ],
 "metadata": {
  "kernelspec": {
   "display_name": "Python 3",
   "language": "python",
   "name": "python3"
  },
  "language_info": {
   "codemirror_mode": {
    "name": "ipython",
    "version": 3
   },
   "file_extension": ".py",
   "mimetype": "text/x-python",
   "name": "python",
   "nbconvert_exporter": "python",
   "pygments_lexer": "ipython3",
   "version": "3.6.10"
  }
 },
 "nbformat": 4,
 "nbformat_minor": 4
}
